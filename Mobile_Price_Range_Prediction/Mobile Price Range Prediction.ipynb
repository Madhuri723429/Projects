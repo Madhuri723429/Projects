{
 "cells": [
  {
   "cell_type": "code",
   "execution_count": 1,
   "id": "f95e33ed",
   "metadata": {},
   "outputs": [],
   "source": [
    "import pandas as pd\n",
    "import numpy as np\n",
    "import matplotlib.pyplot as plt"
   ]
  },
  {
   "cell_type": "code",
   "execution_count": 2,
   "id": "0f74b2b5",
   "metadata": {},
   "outputs": [],
   "source": [
    "df=pd.read_csv('C:\\\\Users\\\\dell\\\\OneDrive\\\\Desktop\\\\e7\\\\mobile_price_range_data.csv')"
   ]
  },
  {
   "cell_type": "code",
   "execution_count": 3,
   "id": "46b84c18",
   "metadata": {},
   "outputs": [
    {
     "data": {
      "text/html": [
       "<div>\n",
       "<style scoped>\n",
       "    .dataframe tbody tr th:only-of-type {\n",
       "        vertical-align: middle;\n",
       "    }\n",
       "\n",
       "    .dataframe tbody tr th {\n",
       "        vertical-align: top;\n",
       "    }\n",
       "\n",
       "    .dataframe thead th {\n",
       "        text-align: right;\n",
       "    }\n",
       "</style>\n",
       "<table border=\"1\" class=\"dataframe\">\n",
       "  <thead>\n",
       "    <tr style=\"text-align: right;\">\n",
       "      <th></th>\n",
       "      <th>battery_power</th>\n",
       "      <th>blue</th>\n",
       "      <th>clock_speed</th>\n",
       "      <th>dual_sim</th>\n",
       "      <th>fc</th>\n",
       "      <th>four_g</th>\n",
       "      <th>int_memory</th>\n",
       "      <th>m_dep</th>\n",
       "      <th>mobile_wt</th>\n",
       "      <th>n_cores</th>\n",
       "      <th>...</th>\n",
       "      <th>px_height</th>\n",
       "      <th>px_width</th>\n",
       "      <th>ram</th>\n",
       "      <th>sc_h</th>\n",
       "      <th>sc_w</th>\n",
       "      <th>talk_time</th>\n",
       "      <th>three_g</th>\n",
       "      <th>touch_screen</th>\n",
       "      <th>wifi</th>\n",
       "      <th>price_range</th>\n",
       "    </tr>\n",
       "  </thead>\n",
       "  <tbody>\n",
       "    <tr>\n",
       "      <th>0</th>\n",
       "      <td>842</td>\n",
       "      <td>0</td>\n",
       "      <td>2.2</td>\n",
       "      <td>0</td>\n",
       "      <td>1</td>\n",
       "      <td>0</td>\n",
       "      <td>7</td>\n",
       "      <td>0.6</td>\n",
       "      <td>188</td>\n",
       "      <td>2</td>\n",
       "      <td>...</td>\n",
       "      <td>20</td>\n",
       "      <td>756</td>\n",
       "      <td>2549</td>\n",
       "      <td>9</td>\n",
       "      <td>7</td>\n",
       "      <td>19</td>\n",
       "      <td>0</td>\n",
       "      <td>0</td>\n",
       "      <td>1</td>\n",
       "      <td>1</td>\n",
       "    </tr>\n",
       "    <tr>\n",
       "      <th>1</th>\n",
       "      <td>1021</td>\n",
       "      <td>1</td>\n",
       "      <td>0.5</td>\n",
       "      <td>1</td>\n",
       "      <td>0</td>\n",
       "      <td>1</td>\n",
       "      <td>53</td>\n",
       "      <td>0.7</td>\n",
       "      <td>136</td>\n",
       "      <td>3</td>\n",
       "      <td>...</td>\n",
       "      <td>905</td>\n",
       "      <td>1988</td>\n",
       "      <td>2631</td>\n",
       "      <td>17</td>\n",
       "      <td>3</td>\n",
       "      <td>7</td>\n",
       "      <td>1</td>\n",
       "      <td>1</td>\n",
       "      <td>0</td>\n",
       "      <td>2</td>\n",
       "    </tr>\n",
       "    <tr>\n",
       "      <th>2</th>\n",
       "      <td>563</td>\n",
       "      <td>1</td>\n",
       "      <td>0.5</td>\n",
       "      <td>1</td>\n",
       "      <td>2</td>\n",
       "      <td>1</td>\n",
       "      <td>41</td>\n",
       "      <td>0.9</td>\n",
       "      <td>145</td>\n",
       "      <td>5</td>\n",
       "      <td>...</td>\n",
       "      <td>1263</td>\n",
       "      <td>1716</td>\n",
       "      <td>2603</td>\n",
       "      <td>11</td>\n",
       "      <td>2</td>\n",
       "      <td>9</td>\n",
       "      <td>1</td>\n",
       "      <td>1</td>\n",
       "      <td>0</td>\n",
       "      <td>2</td>\n",
       "    </tr>\n",
       "    <tr>\n",
       "      <th>3</th>\n",
       "      <td>615</td>\n",
       "      <td>1</td>\n",
       "      <td>2.5</td>\n",
       "      <td>0</td>\n",
       "      <td>0</td>\n",
       "      <td>0</td>\n",
       "      <td>10</td>\n",
       "      <td>0.8</td>\n",
       "      <td>131</td>\n",
       "      <td>6</td>\n",
       "      <td>...</td>\n",
       "      <td>1216</td>\n",
       "      <td>1786</td>\n",
       "      <td>2769</td>\n",
       "      <td>16</td>\n",
       "      <td>8</td>\n",
       "      <td>11</td>\n",
       "      <td>1</td>\n",
       "      <td>0</td>\n",
       "      <td>0</td>\n",
       "      <td>2</td>\n",
       "    </tr>\n",
       "    <tr>\n",
       "      <th>4</th>\n",
       "      <td>1821</td>\n",
       "      <td>1</td>\n",
       "      <td>1.2</td>\n",
       "      <td>0</td>\n",
       "      <td>13</td>\n",
       "      <td>1</td>\n",
       "      <td>44</td>\n",
       "      <td>0.6</td>\n",
       "      <td>141</td>\n",
       "      <td>2</td>\n",
       "      <td>...</td>\n",
       "      <td>1208</td>\n",
       "      <td>1212</td>\n",
       "      <td>1411</td>\n",
       "      <td>8</td>\n",
       "      <td>2</td>\n",
       "      <td>15</td>\n",
       "      <td>1</td>\n",
       "      <td>1</td>\n",
       "      <td>0</td>\n",
       "      <td>1</td>\n",
       "    </tr>\n",
       "    <tr>\n",
       "      <th>5</th>\n",
       "      <td>1859</td>\n",
       "      <td>0</td>\n",
       "      <td>0.5</td>\n",
       "      <td>1</td>\n",
       "      <td>3</td>\n",
       "      <td>0</td>\n",
       "      <td>22</td>\n",
       "      <td>0.7</td>\n",
       "      <td>164</td>\n",
       "      <td>1</td>\n",
       "      <td>...</td>\n",
       "      <td>1004</td>\n",
       "      <td>1654</td>\n",
       "      <td>1067</td>\n",
       "      <td>17</td>\n",
       "      <td>1</td>\n",
       "      <td>10</td>\n",
       "      <td>1</td>\n",
       "      <td>0</td>\n",
       "      <td>0</td>\n",
       "      <td>1</td>\n",
       "    </tr>\n",
       "    <tr>\n",
       "      <th>6</th>\n",
       "      <td>1821</td>\n",
       "      <td>0</td>\n",
       "      <td>1.7</td>\n",
       "      <td>0</td>\n",
       "      <td>4</td>\n",
       "      <td>1</td>\n",
       "      <td>10</td>\n",
       "      <td>0.8</td>\n",
       "      <td>139</td>\n",
       "      <td>8</td>\n",
       "      <td>...</td>\n",
       "      <td>381</td>\n",
       "      <td>1018</td>\n",
       "      <td>3220</td>\n",
       "      <td>13</td>\n",
       "      <td>8</td>\n",
       "      <td>18</td>\n",
       "      <td>1</td>\n",
       "      <td>0</td>\n",
       "      <td>1</td>\n",
       "      <td>3</td>\n",
       "    </tr>\n",
       "    <tr>\n",
       "      <th>7</th>\n",
       "      <td>1954</td>\n",
       "      <td>0</td>\n",
       "      <td>0.5</td>\n",
       "      <td>1</td>\n",
       "      <td>0</td>\n",
       "      <td>0</td>\n",
       "      <td>24</td>\n",
       "      <td>0.8</td>\n",
       "      <td>187</td>\n",
       "      <td>4</td>\n",
       "      <td>...</td>\n",
       "      <td>512</td>\n",
       "      <td>1149</td>\n",
       "      <td>700</td>\n",
       "      <td>16</td>\n",
       "      <td>3</td>\n",
       "      <td>5</td>\n",
       "      <td>1</td>\n",
       "      <td>1</td>\n",
       "      <td>1</td>\n",
       "      <td>0</td>\n",
       "    </tr>\n",
       "    <tr>\n",
       "      <th>8</th>\n",
       "      <td>1445</td>\n",
       "      <td>1</td>\n",
       "      <td>0.5</td>\n",
       "      <td>0</td>\n",
       "      <td>0</td>\n",
       "      <td>0</td>\n",
       "      <td>53</td>\n",
       "      <td>0.7</td>\n",
       "      <td>174</td>\n",
       "      <td>7</td>\n",
       "      <td>...</td>\n",
       "      <td>386</td>\n",
       "      <td>836</td>\n",
       "      <td>1099</td>\n",
       "      <td>17</td>\n",
       "      <td>1</td>\n",
       "      <td>20</td>\n",
       "      <td>1</td>\n",
       "      <td>0</td>\n",
       "      <td>0</td>\n",
       "      <td>0</td>\n",
       "    </tr>\n",
       "    <tr>\n",
       "      <th>9</th>\n",
       "      <td>509</td>\n",
       "      <td>1</td>\n",
       "      <td>0.6</td>\n",
       "      <td>1</td>\n",
       "      <td>2</td>\n",
       "      <td>1</td>\n",
       "      <td>9</td>\n",
       "      <td>0.1</td>\n",
       "      <td>93</td>\n",
       "      <td>5</td>\n",
       "      <td>...</td>\n",
       "      <td>1137</td>\n",
       "      <td>1224</td>\n",
       "      <td>513</td>\n",
       "      <td>19</td>\n",
       "      <td>10</td>\n",
       "      <td>12</td>\n",
       "      <td>1</td>\n",
       "      <td>0</td>\n",
       "      <td>0</td>\n",
       "      <td>0</td>\n",
       "    </tr>\n",
       "  </tbody>\n",
       "</table>\n",
       "<p>10 rows × 21 columns</p>\n",
       "</div>"
      ],
      "text/plain": [
       "   battery_power  blue  clock_speed  dual_sim  fc  four_g  int_memory  m_dep  \\\n",
       "0            842     0          2.2         0   1       0           7    0.6   \n",
       "1           1021     1          0.5         1   0       1          53    0.7   \n",
       "2            563     1          0.5         1   2       1          41    0.9   \n",
       "3            615     1          2.5         0   0       0          10    0.8   \n",
       "4           1821     1          1.2         0  13       1          44    0.6   \n",
       "5           1859     0          0.5         1   3       0          22    0.7   \n",
       "6           1821     0          1.7         0   4       1          10    0.8   \n",
       "7           1954     0          0.5         1   0       0          24    0.8   \n",
       "8           1445     1          0.5         0   0       0          53    0.7   \n",
       "9            509     1          0.6         1   2       1           9    0.1   \n",
       "\n",
       "   mobile_wt  n_cores  ...  px_height  px_width   ram  sc_h  sc_w  talk_time  \\\n",
       "0        188        2  ...         20       756  2549     9     7         19   \n",
       "1        136        3  ...        905      1988  2631    17     3          7   \n",
       "2        145        5  ...       1263      1716  2603    11     2          9   \n",
       "3        131        6  ...       1216      1786  2769    16     8         11   \n",
       "4        141        2  ...       1208      1212  1411     8     2         15   \n",
       "5        164        1  ...       1004      1654  1067    17     1         10   \n",
       "6        139        8  ...        381      1018  3220    13     8         18   \n",
       "7        187        4  ...        512      1149   700    16     3          5   \n",
       "8        174        7  ...        386       836  1099    17     1         20   \n",
       "9         93        5  ...       1137      1224   513    19    10         12   \n",
       "\n",
       "   three_g  touch_screen  wifi  price_range  \n",
       "0        0             0     1            1  \n",
       "1        1             1     0            2  \n",
       "2        1             1     0            2  \n",
       "3        1             0     0            2  \n",
       "4        1             1     0            1  \n",
       "5        1             0     0            1  \n",
       "6        1             0     1            3  \n",
       "7        1             1     1            0  \n",
       "8        1             0     0            0  \n",
       "9        1             0     0            0  \n",
       "\n",
       "[10 rows x 21 columns]"
      ]
     },
     "execution_count": 3,
     "metadata": {},
     "output_type": "execute_result"
    }
   ],
   "source": [
    "df.head(10)"
   ]
  },
  {
   "cell_type": "code",
   "execution_count": 4,
   "id": "d9612d6c",
   "metadata": {},
   "outputs": [
    {
     "data": {
      "text/plain": [
       "battery_power    0\n",
       "blue             0\n",
       "clock_speed      0\n",
       "dual_sim         0\n",
       "fc               0\n",
       "four_g           0\n",
       "int_memory       0\n",
       "m_dep            0\n",
       "mobile_wt        0\n",
       "n_cores          0\n",
       "pc               0\n",
       "px_height        0\n",
       "px_width         0\n",
       "ram              0\n",
       "sc_h             0\n",
       "sc_w             0\n",
       "talk_time        0\n",
       "three_g          0\n",
       "touch_screen     0\n",
       "wifi             0\n",
       "price_range      0\n",
       "dtype: int64"
      ]
     },
     "execution_count": 4,
     "metadata": {},
     "output_type": "execute_result"
    }
   ],
   "source": [
    "df.isnull().sum()"
   ]
  },
  {
   "cell_type": "code",
   "execution_count": 5,
   "id": "f4cbdd16",
   "metadata": {},
   "outputs": [
    {
     "name": "stdout",
     "output_type": "stream",
     "text": [
      "<class 'list'>\n",
      "<class 'pandas.core.series.Series'>\n"
     ]
    }
   ],
   "source": [
    "y=df['price_range']\n",
    "x=[['ram']]\n",
    "print(type(x))\n",
    "print(type(y))"
   ]
  },
  {
   "cell_type": "code",
   "execution_count": 6,
   "id": "93dcb19d",
   "metadata": {},
   "outputs": [
    {
     "data": {
      "text/plain": [
       "battery_power      int64\n",
       "blue               int64\n",
       "clock_speed      float64\n",
       "dual_sim           int64\n",
       "fc                 int64\n",
       "four_g             int64\n",
       "int_memory         int64\n",
       "m_dep            float64\n",
       "mobile_wt          int64\n",
       "n_cores            int64\n",
       "pc                 int64\n",
       "px_height          int64\n",
       "px_width           int64\n",
       "ram                int64\n",
       "sc_h               int64\n",
       "sc_w               int64\n",
       "talk_time          int64\n",
       "three_g            int64\n",
       "touch_screen       int64\n",
       "wifi               int64\n",
       "price_range        int64\n",
       "dtype: object"
      ]
     },
     "execution_count": 6,
     "metadata": {},
     "output_type": "execute_result"
    }
   ],
   "source": [
    "df.dtypes"
   ]
  },
  {
   "cell_type": "code",
   "execution_count": 7,
   "id": "9ebfbb75",
   "metadata": {},
   "outputs": [
    {
     "data": {
      "text/plain": [
       "1    500\n",
       "2    500\n",
       "3    500\n",
       "0    500\n",
       "Name: price_range, dtype: int64"
      ]
     },
     "execution_count": 7,
     "metadata": {},
     "output_type": "execute_result"
    }
   ],
   "source": [
    "df['price_range'].value_counts()"
   ]
  },
  {
   "cell_type": "code",
   "execution_count": 8,
   "id": "308d142e",
   "metadata": {},
   "outputs": [],
   "source": [
    "x1=df.drop('price_range',axis=1)\n",
    "y1=df['price_range']"
   ]
  },
  {
   "cell_type": "code",
   "execution_count": 9,
   "id": "5e8f1597",
   "metadata": {},
   "outputs": [
    {
     "name": "stdout",
     "output_type": "stream",
     "text": [
      "(2000, 20)\n",
      "(2000,)\n"
     ]
    }
   ],
   "source": [
    "print(x1.shape)\n",
    "print(y1.shape)"
   ]
  },
  {
   "cell_type": "markdown",
   "id": "74248f5e",
   "metadata": {},
   "source": [
    "### Splitting into Training and Testing data"
   ]
  },
  {
   "cell_type": "code",
   "execution_count": 10,
   "id": "b4dbedd6",
   "metadata": {},
   "outputs": [
    {
     "name": "stdout",
     "output_type": "stream",
     "text": [
      "(1200, 20)\n",
      "(800, 20)\n",
      "(1200,)\n",
      "(800,)\n"
     ]
    }
   ],
   "source": [
    "from sklearn.model_selection import train_test_split\n",
    "x_train,x_test,y_train,y_test=train_test_split(x1,y1,test_size=0.40,random_state=0)\n",
    "print(x_train.shape)\n",
    "print(x_test.shape)\n",
    "print(y_train.shape)\n",
    "print(y_test.shape)"
   ]
  },
  {
   "cell_type": "code",
   "execution_count": 11,
   "id": "e1d16c9c",
   "metadata": {},
   "outputs": [
    {
     "data": {
      "text/html": [
       "<div>\n",
       "<style scoped>\n",
       "    .dataframe tbody tr th:only-of-type {\n",
       "        vertical-align: middle;\n",
       "    }\n",
       "\n",
       "    .dataframe tbody tr th {\n",
       "        vertical-align: top;\n",
       "    }\n",
       "\n",
       "    .dataframe thead th {\n",
       "        text-align: right;\n",
       "    }\n",
       "</style>\n",
       "<table border=\"1\" class=\"dataframe\">\n",
       "  <thead>\n",
       "    <tr style=\"text-align: right;\">\n",
       "      <th></th>\n",
       "      <th>battery_power</th>\n",
       "      <th>blue</th>\n",
       "      <th>clock_speed</th>\n",
       "      <th>dual_sim</th>\n",
       "      <th>fc</th>\n",
       "      <th>four_g</th>\n",
       "      <th>int_memory</th>\n",
       "      <th>m_dep</th>\n",
       "      <th>mobile_wt</th>\n",
       "      <th>n_cores</th>\n",
       "      <th>pc</th>\n",
       "      <th>px_height</th>\n",
       "      <th>px_width</th>\n",
       "      <th>ram</th>\n",
       "      <th>sc_h</th>\n",
       "      <th>sc_w</th>\n",
       "      <th>talk_time</th>\n",
       "      <th>three_g</th>\n",
       "      <th>touch_screen</th>\n",
       "      <th>wifi</th>\n",
       "    </tr>\n",
       "  </thead>\n",
       "  <tbody>\n",
       "    <tr>\n",
       "      <th>891</th>\n",
       "      <td>1652</td>\n",
       "      <td>0</td>\n",
       "      <td>0.6</td>\n",
       "      <td>1</td>\n",
       "      <td>4</td>\n",
       "      <td>1</td>\n",
       "      <td>40</td>\n",
       "      <td>1.0</td>\n",
       "      <td>198</td>\n",
       "      <td>7</td>\n",
       "      <td>6</td>\n",
       "      <td>352</td>\n",
       "      <td>1084</td>\n",
       "      <td>3592</td>\n",
       "      <td>7</td>\n",
       "      <td>6</td>\n",
       "      <td>6</td>\n",
       "      <td>1</td>\n",
       "      <td>0</td>\n",
       "      <td>0</td>\n",
       "    </tr>\n",
       "    <tr>\n",
       "      <th>1796</th>\n",
       "      <td>793</td>\n",
       "      <td>1</td>\n",
       "      <td>2.8</td>\n",
       "      <td>1</td>\n",
       "      <td>1</td>\n",
       "      <td>1</td>\n",
       "      <td>64</td>\n",
       "      <td>0.4</td>\n",
       "      <td>179</td>\n",
       "      <td>4</td>\n",
       "      <td>2</td>\n",
       "      <td>818</td>\n",
       "      <td>1006</td>\n",
       "      <td>2296</td>\n",
       "      <td>12</td>\n",
       "      <td>0</td>\n",
       "      <td>5</td>\n",
       "      <td>1</td>\n",
       "      <td>1</td>\n",
       "      <td>0</td>\n",
       "    </tr>\n",
       "    <tr>\n",
       "      <th>1868</th>\n",
       "      <td>1766</td>\n",
       "      <td>1</td>\n",
       "      <td>0.5</td>\n",
       "      <td>1</td>\n",
       "      <td>1</td>\n",
       "      <td>1</td>\n",
       "      <td>22</td>\n",
       "      <td>0.8</td>\n",
       "      <td>122</td>\n",
       "      <td>8</td>\n",
       "      <td>4</td>\n",
       "      <td>291</td>\n",
       "      <td>1318</td>\n",
       "      <td>3297</td>\n",
       "      <td>7</td>\n",
       "      <td>5</td>\n",
       "      <td>16</td>\n",
       "      <td>1</td>\n",
       "      <td>0</td>\n",
       "      <td>0</td>\n",
       "    </tr>\n",
       "    <tr>\n",
       "      <th>1042</th>\n",
       "      <td>1674</td>\n",
       "      <td>0</td>\n",
       "      <td>2.8</td>\n",
       "      <td>1</td>\n",
       "      <td>0</td>\n",
       "      <td>1</td>\n",
       "      <td>52</td>\n",
       "      <td>0.2</td>\n",
       "      <td>89</td>\n",
       "      <td>3</td>\n",
       "      <td>7</td>\n",
       "      <td>1432</td>\n",
       "      <td>1649</td>\n",
       "      <td>2030</td>\n",
       "      <td>7</td>\n",
       "      <td>0</td>\n",
       "      <td>6</td>\n",
       "      <td>1</td>\n",
       "      <td>0</td>\n",
       "      <td>0</td>\n",
       "    </tr>\n",
       "    <tr>\n",
       "      <th>996</th>\n",
       "      <td>774</td>\n",
       "      <td>0</td>\n",
       "      <td>0.5</td>\n",
       "      <td>1</td>\n",
       "      <td>2</td>\n",
       "      <td>1</td>\n",
       "      <td>10</td>\n",
       "      <td>0.5</td>\n",
       "      <td>188</td>\n",
       "      <td>2</td>\n",
       "      <td>9</td>\n",
       "      <td>1480</td>\n",
       "      <td>1731</td>\n",
       "      <td>2944</td>\n",
       "      <td>8</td>\n",
       "      <td>6</td>\n",
       "      <td>2</td>\n",
       "      <td>1</td>\n",
       "      <td>1</td>\n",
       "      <td>1</td>\n",
       "    </tr>\n",
       "  </tbody>\n",
       "</table>\n",
       "</div>"
      ],
      "text/plain": [
       "      battery_power  blue  clock_speed  dual_sim  fc  four_g  int_memory  \\\n",
       "891            1652     0          0.6         1   4       1          40   \n",
       "1796            793     1          2.8         1   1       1          64   \n",
       "1868           1766     1          0.5         1   1       1          22   \n",
       "1042           1674     0          2.8         1   0       1          52   \n",
       "996             774     0          0.5         1   2       1          10   \n",
       "\n",
       "      m_dep  mobile_wt  n_cores  pc  px_height  px_width   ram  sc_h  sc_w  \\\n",
       "891     1.0        198        7   6        352      1084  3592     7     6   \n",
       "1796    0.4        179        4   2        818      1006  2296    12     0   \n",
       "1868    0.8        122        8   4        291      1318  3297     7     5   \n",
       "1042    0.2         89        3   7       1432      1649  2030     7     0   \n",
       "996     0.5        188        2   9       1480      1731  2944     8     6   \n",
       "\n",
       "      talk_time  three_g  touch_screen  wifi  \n",
       "891           6        1             0     0  \n",
       "1796          5        1             1     0  \n",
       "1868         16        1             0     0  \n",
       "1042          6        1             0     0  \n",
       "996           2        1             1     1  "
      ]
     },
     "execution_count": 11,
     "metadata": {},
     "output_type": "execute_result"
    }
   ],
   "source": [
    "x_train.head()"
   ]
  },
  {
   "cell_type": "code",
   "execution_count": 12,
   "id": "b7426382",
   "metadata": {},
   "outputs": [],
   "source": [
    "from sklearn.metrics import confusion_matrix,classification_report,accuracy_score"
   ]
  },
  {
   "cell_type": "markdown",
   "id": "c4615fcd",
   "metadata": {},
   "source": [
    "## Logistic Regression"
   ]
  },
  {
   "cell_type": "code",
   "execution_count": 13,
   "id": "51b4aaa0",
   "metadata": {},
   "outputs": [],
   "source": [
    "from sklearn.linear_model import LogisticRegression"
   ]
  },
  {
   "cell_type": "code",
   "execution_count": 14,
   "id": "e5c58cae",
   "metadata": {},
   "outputs": [
    {
     "name": "stderr",
     "output_type": "stream",
     "text": [
      "C:\\Users\\dell\\anaconda3\\lib\\site-packages\\sklearn\\linear_model\\_logistic.py:814: ConvergenceWarning: lbfgs failed to converge (status=1):\n",
      "STOP: TOTAL NO. of ITERATIONS REACHED LIMIT.\n",
      "\n",
      "Increase the number of iterations (max_iter) or scale the data as shown in:\n",
      "    https://scikit-learn.org/stable/modules/preprocessing.html\n",
      "Please also refer to the documentation for alternative solver options:\n",
      "    https://scikit-learn.org/stable/modules/linear_model.html#logistic-regression\n",
      "  n_iter_i = _check_optimize_result(\n"
     ]
    },
    {
     "data": {
      "text/plain": [
       "LogisticRegression()"
      ]
     },
     "execution_count": 14,
     "metadata": {},
     "output_type": "execute_result"
    }
   ],
   "source": [
    "m1=LogisticRegression()\n",
    "m1.fit(x_train,y_train)"
   ]
  },
  {
   "cell_type": "code",
   "execution_count": 15,
   "id": "102e6247",
   "metadata": {},
   "outputs": [
    {
     "name": "stdout",
     "output_type": "stream",
     "text": [
      "training score 0.63\n",
      "testing score 0.645\n"
     ]
    }
   ],
   "source": [
    "print('training score',m1.score(x_train,y_train))\n",
    "print('testing score',m1.score(x_test,y_test))"
   ]
  },
  {
   "cell_type": "markdown",
   "id": "48d046b6",
   "metadata": {},
   "source": [
    "### Predicting price range"
   ]
  },
  {
   "cell_type": "code",
   "execution_count": 16,
   "id": "c1d150d2",
   "metadata": {},
   "outputs": [
    {
     "name": "stdout",
     "output_type": "stream",
     "text": [
      "[3 0 2 1 3 0 0 2 3 2 1 3 1 1 2 0 3 2 2 1 0 0 3 1 1 2 3 1 3 1 2 0 1 1 2 3 0\n",
      " 0 3 2 3 3 3 3 2 2 0 1 3 1 0 2 0 2 0 3 3 1 0 3 3 2 2 1 1 3 3 3 2 2 3 2 1 0\n",
      " 1 3 3 1 1 1 3 1 3 0 0 0 1 0 1 3 1 2 1 0 0 3 2 3 0 2 1 2 2 0 3 2 3 2 3 3 2\n",
      " 0 0 2 3 3 1 0 1 0 0 3 2 3 1 2 0 0 0 3 1 3 3 2 3 3 3 3 0 1 1 3 2 3 1 3 0 0\n",
      " 2 0 1 1 1 1 3 0 0 3 1 3 2 2 2 1 3 3 3 3 0 1 3 2 1 3 3 0 1 1 3 0 3 1 0 1 3\n",
      " 1 2 0 3 3 3 3 1 1 2 1 0 3 2 0 3 3 3 0 1 3 2 2 0 0 0 2 2 3 0 0 0 2 2 2 2 3\n",
      " 0 0 3 3 2 2 0 3 1 0 0 3 2 0 3 2 0 0 0 3 3 2 0 0 2 3 3 1 3 0 2 1 1 0 1 2 3\n",
      " 2 1 0 1 3 3 3 2 3 3 2 1 2 2 2 1 3 2 2 2 1 0 2 1 0 0 0 1 3 3 3 0 1 2 0 2 2\n",
      " 3 0 1 0 1 1 3 0 0 1 3 1 2 0 1 1 3 0 2 3 2 2 0 1 3 1 0 1 0 1 0 3 1 2 2 0 0\n",
      " 2 3 0 3 1 1 0 1 3 0 2 1 1 2 3 2 0 3 0 0 3 1 3 3 2 2 0 3 2 3 2 3 2 2 3 3 0\n",
      " 2 0 1 0 1 1 2 2 1 3 1 1 0 1 1 3 1 0 0 3 0 3 0 2 3 1 1 0 2 1 0 0 3 0 3 3 0\n",
      " 3 3 3 2 2 3 2 1 3 1 2 1 0 2 1 1 2 1 3 1 2 2 0 3 1 1 1 3 0 2 3 2 2 3 3 0 0\n",
      " 1 2 1 2 0 3 3 0 3 3 0 3 1 2 0 2 2 0 3 3 2 0 2 0 3 3 2 1 1 3 1 2 0 0 1 3 0\n",
      " 2 0 0 1 2 0 1 2 0 3 3 3 3 0 3 1 2 2 2 1 3 2 2 3 3 0 0 2 0 3 2 2 1 0 3 2 0\n",
      " 1 1 3 1 0 0 3 1 0 3 2 3 0 0 2 0 3 2 1 0 2 3 0 0 1 0 3 2 1 3 3 2 0 1 1 1 2\n",
      " 2 3 0 3 3 3 2 0 2 0 3 1 0 0 1 3 0 3 1 3 3 3 1 3 1 2 0 0 1 3 1 2 2 3 3 1 2\n",
      " 2 1 0 2 3 0 3 2 0 2 3 1 3 3 2 1 3 0 0 2 1 0 0 0 1 0 0 2 2 1 2 1 1 3 3 3 3\n",
      " 2 3 0 1 1 0 3 0 3 0 1 2 1 3 3 2 3 3 0 1 3 0 3 2 3 1 2 2 3 0 1 1 0 3 2 2 2\n",
      " 1 2 1 3 2 0 3 2 1 3 3 1 2 0 3 0 0 2 1 3 0 1 2 0 0 2 1 1 0 1 3 0 0 0 3 3 1\n",
      " 2 1 2 2 0 1 3 1 1 3 1 3 2 2 3 0 1 2 0 3 3 3 1 3 2 1 3 0 2 3 0 3 0 1 3 0 0\n",
      " 0 1 1 2 2 0 2 0 1 3 1 3 3 2 2 0 1 3 3 2 1 1 0 3 1 0 1 3 0 2 3 1 3 3 1 2 1\n",
      " 0 1 1 1 0 2 0 0 1 1 3 0 2 0 3 3 1 2 0 3 0 2 0]\n"
     ]
    }
   ],
   "source": [
    "ypred_m1=m1.predict(x_test)\n",
    "print(ypred_m1)"
   ]
  },
  {
   "cell_type": "markdown",
   "id": "b2aa8b7d",
   "metadata": {},
   "source": [
    "### Accuracy Score for Logistic Regression"
   ]
  },
  {
   "cell_type": "code",
   "execution_count": 17,
   "id": "b05be22d",
   "metadata": {},
   "outputs": [
    {
     "name": "stdout",
     "output_type": "stream",
     "text": [
      "accuracy score= 0.645\n",
      "testing score= 0.645\n"
     ]
    }
   ],
   "source": [
    "print('accuracy score=',accuracy_score(y_test,ypred_m1))\n",
    "print('testing score=',m1.score(x_test,y_test))"
   ]
  },
  {
   "cell_type": "markdown",
   "id": "0fb0ba55",
   "metadata": {},
   "source": [
    "### Confusion matrix and classification report"
   ]
  },
  {
   "cell_type": "code",
   "execution_count": 18,
   "id": "4658ff9c",
   "metadata": {},
   "outputs": [
    {
     "name": "stdout",
     "output_type": "stream",
     "text": [
      "[[170  33   2   0]\n",
      " [ 30 102  44  11]\n",
      " [  0  50  86  63]\n",
      " [  0   2  49 158]]\n",
      "              precision    recall  f1-score   support\n",
      "\n",
      "           0       0.85      0.83      0.84       205\n",
      "           1       0.55      0.55      0.55       187\n",
      "           2       0.48      0.43      0.45       199\n",
      "           3       0.68      0.76      0.72       209\n",
      "\n",
      "    accuracy                           0.65       800\n",
      "   macro avg       0.64      0.64      0.64       800\n",
      "weighted avg       0.64      0.65      0.64       800\n",
      "\n"
     ]
    }
   ],
   "source": [
    "cm=confusion_matrix(y_test,ypred_m1)\n",
    "print(cm)\n",
    "print(classification_report(y_test,ypred_m1))"
   ]
  },
  {
   "cell_type": "code",
   "execution_count": 19,
   "id": "a421b46e",
   "metadata": {},
   "outputs": [
    {
     "name": "stdout",
     "output_type": "stream",
     "text": [
      "[[-6.42840937e-04  3.58797698e-04  1.05822315e-03  3.20316246e-04\n",
      "   1.83229863e-03  2.53510917e-04  1.36126767e-02  2.09803664e-04\n",
      "   4.42036566e-02  3.07554878e-03  5.36157617e-03 -1.45085982e-03\n",
      "   8.47162866e-04 -3.93554911e-03  7.80437204e-03  3.94849747e-03\n",
      "   6.63579002e-03  3.38940391e-04  3.51337379e-04  2.89362858e-04]\n",
      " [ 9.87186410e-05  7.46280558e-05  2.23029186e-04  1.81878311e-04\n",
      "   7.86233510e-04  3.08335702e-04  6.14770804e-03  1.93600640e-04\n",
      "   1.21143993e-02 -7.95524645e-04  2.15338185e-03 -2.88838923e-04\n",
      "   5.02187901e-04 -6.63327425e-04  2.28532660e-03 -5.67208740e-04\n",
      "   2.11951850e-03  2.88402919e-04  1.47322518e-04  1.19964643e-04]\n",
      " [ 2.83217587e-04 -4.63030822e-05 -2.51294876e-04 -1.10348620e-04\n",
      "   6.43526714e-04 -2.83792351e-04 -6.67048280e-03 -1.15631267e-04\n",
      "  -1.42483476e-02  5.33709859e-04 -4.86290315e-04  3.05715507e-04\n",
      "  -2.39281308e-04  1.49143953e-03 -2.48257035e-03  7.32349118e-04\n",
      "  -1.81300833e-03 -1.89615710e-04 -1.95131678e-04 -3.97744875e-05]\n",
      " [ 2.60904709e-04 -3.87122671e-04 -1.02995746e-03 -3.91845937e-04\n",
      "  -3.26205885e-03 -2.78054268e-04 -1.30899020e-02 -2.87773037e-04\n",
      "  -4.20697084e-02 -2.81373399e-03 -7.02866770e-03  1.43398324e-03\n",
      "  -1.11006946e-03  3.10743701e-03 -7.60712828e-03 -4.11363785e-03\n",
      "  -6.94230019e-03 -4.37727601e-04 -3.03528219e-04 -3.69553014e-04]]\n",
      "[ 0.00061708  0.00015333 -0.00010833 -0.00066209]\n"
     ]
    }
   ],
   "source": [
    "m=m1.coef_\n",
    "c=m1.intercept_\n",
    "print(m)\n",
    "print(c)"
   ]
  },
  {
   "cell_type": "code",
   "execution_count": 20,
   "id": "b302ed76",
   "metadata": {},
   "outputs": [],
   "source": [
    "def sigmoid(m,x,c):\n",
    "    m=np.array(m)\n",
    "    x=np.array(x)\n",
    "    c=np.expand_dims(c,axis=-1)\n",
    "    res=1/(1+np.exp(-(m*x+c)))\n",
    "    print(res)"
   ]
  },
  {
   "cell_type": "code",
   "execution_count": 21,
   "id": "e0d3a564",
   "metadata": {},
   "outputs": [
    {
     "name": "stdout",
     "output_type": "stream",
     "text": [
      "[0]\n",
      "[[4.43029199e-01 5.00154270e-01 5.00868569e-01 5.00234349e-01\n",
      "  5.00612344e-01 5.00154270e-01 5.30743959e-01 5.00206721e-01\n",
      "  1.00000000e+00 5.05536254e-01 5.06855810e-01 7.50023236e-02\n",
      "  8.35781558e-01 1.49244903e-08 5.25496345e-01 5.16928911e-01\n",
      "  5.21706934e-01 5.00239005e-01 5.00154270e-01 5.00226610e-01]\n",
      " [5.08848049e-01 5.00038334e-01 5.00188878e-01 5.00083803e-01\n",
      "  5.00234892e-01 5.00038334e-01 5.13867120e-01 5.00086734e-01\n",
      "  9.99960529e-01 4.98646169e-01 5.02730034e-01 3.77513484e-01\n",
      "  7.23992722e-01 4.57723119e-02 5.07465090e-01 4.97627714e-01\n",
      "  5.06926326e-01 5.00110434e-01 5.00038334e-01 5.00068325e-01]\n",
      " [5.25228645e-01 4.99972918e-01 4.99803294e-01 4.99945331e-01\n",
      "  5.00133800e-01 4.99972918e-01 4.84968862e-01 4.99944010e-01\n",
      "  6.61624939e-06 5.00906909e-01 4.99365055e-01 6.29341045e-01\n",
      "  3.87097697e-01 9.98919438e-01 4.91905272e-01 5.03085363e-01\n",
      "  4.94080917e-01 4.99925514e-01 4.99972918e-01 4.99962974e-01]\n",
      " [5.23103760e-01 4.99834479e-01 4.99139258e-01 4.99736517e-01\n",
      "  4.99018965e-01 4.99834479e-01 4.70416792e-01 4.99762535e-01\n",
      "  5.09547816e-16 4.94910620e-01 4.91049600e-01 9.22941209e-01\n",
      "  1.06025706e-01 9.99999338e-01 4.75131848e-01 4.82358843e-01\n",
      "  4.77287644e-01 4.99725047e-01 4.99834479e-01 4.99742090e-01]]\n"
     ]
    },
    {
     "name": "stderr",
     "output_type": "stream",
     "text": [
      "C:\\Users\\dell\\anaconda3\\lib\\site-packages\\sklearn\\base.py:450: UserWarning: X does not have valid feature names, but LogisticRegression was fitted with feature names\n",
      "  warnings.warn(\n"
     ]
    }
   ],
   "source": [
    "ypredram1=(m1.predict([[357,0,2.7,1,1,0,9,1,837,7,5,1732,1920,4579,13,17,13,1,0,1]]))\n",
    "print(ypredram1)\n",
    "sigmoid(m,[[357,0,2.7,1,1,0,9,1,837,7,5,1732,1920,4579,13,17,13,1,0,1]],c)"
   ]
  },
  {
   "cell_type": "markdown",
   "id": "a095d7f9",
   "metadata": {},
   "source": [
    "## KNN Classification"
   ]
  },
  {
   "cell_type": "code",
   "execution_count": 22,
   "id": "1d1a9889",
   "metadata": {},
   "outputs": [],
   "source": [
    "from sklearn.neighbors import KNeighborsClassifier"
   ]
  },
  {
   "cell_type": "code",
   "execution_count": 23,
   "id": "d14df8ce",
   "metadata": {},
   "outputs": [
    {
     "data": {
      "text/plain": [
       "KNeighborsClassifier(n_neighbors=10)"
      ]
     },
     "execution_count": 23,
     "metadata": {},
     "output_type": "execute_result"
    }
   ],
   "source": [
    "m2=KNeighborsClassifier(n_neighbors=10)\n",
    "m2.fit(x_train,y_train)"
   ]
  },
  {
   "cell_type": "code",
   "execution_count": 24,
   "id": "82d40ea7",
   "metadata": {},
   "outputs": [
    {
     "name": "stdout",
     "output_type": "stream",
     "text": [
      "Training score= 0.9433333333333334\n",
      "Testing score= 0.93125\n"
     ]
    },
    {
     "name": "stderr",
     "output_type": "stream",
     "text": [
      "C:\\Users\\dell\\anaconda3\\lib\\site-packages\\sklearn\\neighbors\\_classification.py:228: FutureWarning: Unlike other reduction functions (e.g. `skew`, `kurtosis`), the default behavior of `mode` typically preserves the axis it acts along. In SciPy 1.11.0, this behavior will change: the default value of `keepdims` will become False, the `axis` over which the statistic is taken will be eliminated, and the value None will no longer be accepted. Set `keepdims` to True or False to avoid this warning.\n",
      "  mode, _ = stats.mode(_y[neigh_ind, k], axis=1)\n",
      "C:\\Users\\dell\\anaconda3\\lib\\site-packages\\sklearn\\neighbors\\_classification.py:228: FutureWarning: Unlike other reduction functions (e.g. `skew`, `kurtosis`), the default behavior of `mode` typically preserves the axis it acts along. In SciPy 1.11.0, this behavior will change: the default value of `keepdims` will become False, the `axis` over which the statistic is taken will be eliminated, and the value None will no longer be accepted. Set `keepdims` to True or False to avoid this warning.\n",
      "  mode, _ = stats.mode(_y[neigh_ind, k], axis=1)\n"
     ]
    }
   ],
   "source": [
    "print('Training score=',m2.score(x_train,y_train))\n",
    "print('Testing score=',m2.score(x_test,y_test))"
   ]
  },
  {
   "cell_type": "markdown",
   "id": "deff5eff",
   "metadata": {},
   "source": [
    "### Predicted price"
   ]
  },
  {
   "cell_type": "code",
   "execution_count": 25,
   "id": "1d3e9d38",
   "metadata": {},
   "outputs": [
    {
     "name": "stdout",
     "output_type": "stream",
     "text": [
      "[3 0 2 2 3 0 0 2 3 1 0 3 0 2 3 0 3 2 2 1 0 0 3 1 2 2 3 1 3 1 1 0 2 0 1 3 0\n",
      " 0 3 3 3 1 3 3 1 3 0 1 3 1 1 3 0 3 0 2 2 2 0 2 3 1 3 2 1 2 3 2 1 2 3 2 1 0\n",
      " 1 3 2 1 1 2 3 3 3 0 0 0 2 0 2 3 1 2 2 0 0 3 2 3 0 3 1 1 2 1 3 2 2 3 2 3 3\n",
      " 0 0 1 2 3 0 0 1 0 0 3 2 2 1 1 1 1 0 2 1 3 3 3 3 3 3 2 0 1 1 2 1 3 0 3 0 0\n",
      " 2 0 1 1 1 1 3 0 0 3 1 3 2 1 3 1 2 3 3 2 1 0 3 1 2 3 3 0 2 2 3 0 2 1 0 1 2\n",
      " 1 2 0 2 3 1 1 0 2 3 0 1 2 2 0 3 3 3 1 2 3 3 3 0 0 0 2 3 3 0 0 1 3 1 3 3 3\n",
      " 0 0 2 2 3 1 0 2 0 0 0 3 3 0 2 2 1 1 0 3 3 3 0 0 1 3 3 2 3 0 3 1 1 0 2 3 2\n",
      " 2 0 0 1 2 3 2 2 3 1 1 0 3 3 2 1 3 3 2 2 1 0 2 2 1 0 0 2 2 2 2 0 1 3 0 1 2\n",
      " 3 0 2 0 1 1 3 0 0 1 3 1 2 0 2 0 3 0 3 3 2 3 1 2 2 1 1 1 0 1 0 3 1 0 3 0 0\n",
      " 1 2 0 3 1 2 0 1 3 0 2 2 1 2 1 1 0 2 0 0 3 1 2 3 2 2 0 3 2 2 1 3 2 3 3 3 0\n",
      " 2 0 3 0 1 1 2 2 1 3 1 2 0 1 2 3 0 0 1 3 0 3 0 1 2 1 1 0 3 1 0 1 3 0 3 3 0\n",
      " 2 1 3 1 1 3 2 0 3 3 2 0 0 3 0 1 1 1 3 2 3 2 0 3 0 0 1 3 0 0 3 3 2 2 3 0 0\n",
      " 1 2 1 2 0 3 3 0 2 3 0 2 2 1 0 2 2 1 3 2 2 0 2 0 3 3 2 1 0 3 0 2 0 0 1 3 0\n",
      " 3 0 0 1 2 0 1 3 0 2 2 1 2 0 3 0 2 3 2 2 2 3 2 3 3 0 0 2 0 3 1 1 1 0 3 2 0\n",
      " 2 0 3 1 1 0 2 0 0 3 2 3 0 0 2 0 3 1 0 0 2 3 0 0 0 0 2 2 1 3 2 2 0 1 1 2 3\n",
      " 1 2 1 2 3 2 2 1 3 0 3 0 0 1 1 2 0 1 0 0 3 3 1 3 0 2 0 0 1 3 1 2 1 3 2 1 1\n",
      " 2 1 0 1 2 0 2 2 0 2 3 0 3 3 2 2 3 0 0 2 2 1 0 0 1 0 0 2 2 1 3 1 2 2 3 3 2\n",
      " 3 3 0 1 1 0 1 0 3 0 1 3 1 2 3 2 3 2 1 0 3 0 3 3 3 1 3 3 2 0 1 1 0 2 1 2 3\n",
      " 1 1 1 2 2 0 2 1 0 3 1 1 1 0 3 1 0 2 2 3 0 0 1 0 0 3 1 1 0 1 3 0 0 0 3 3 1\n",
      " 1 1 1 2 0 2 3 0 2 2 1 2 2 1 1 0 2 1 0 2 3 3 2 2 1 0 1 0 2 3 0 3 0 1 3 0 0\n",
      " 0 2 2 1 3 0 2 0 0 3 1 2 2 2 2 0 1 3 3 2 1 1 0 2 0 0 1 2 0 2 3 1 3 2 1 1 2\n",
      " 0 1 1 1 0 2 0 1 0 2 2 0 1 0 3 3 0 1 1 3 0 3 0]\n"
     ]
    },
    {
     "name": "stderr",
     "output_type": "stream",
     "text": [
      "C:\\Users\\dell\\anaconda3\\lib\\site-packages\\sklearn\\neighbors\\_classification.py:228: FutureWarning: Unlike other reduction functions (e.g. `skew`, `kurtosis`), the default behavior of `mode` typically preserves the axis it acts along. In SciPy 1.11.0, this behavior will change: the default value of `keepdims` will become False, the `axis` over which the statistic is taken will be eliminated, and the value None will no longer be accepted. Set `keepdims` to True or False to avoid this warning.\n",
      "  mode, _ = stats.mode(_y[neigh_ind, k], axis=1)\n"
     ]
    }
   ],
   "source": [
    "ypred_m2=m2.predict(x_test)\n",
    "print(ypred_m2)"
   ]
  },
  {
   "cell_type": "markdown",
   "id": "e9932941",
   "metadata": {},
   "source": [
    "### Confusion Matrix and Classification Report"
   ]
  },
  {
   "cell_type": "code",
   "execution_count": 26,
   "id": "69184b28",
   "metadata": {},
   "outputs": [
    {
     "name": "stdout",
     "output_type": "stream",
     "text": [
      "[[205   0   0   0]\n",
      " [ 11 172   4   0]\n",
      " [  0  14 176   9]\n",
      " [  0   0  17 192]]\n",
      "              precision    recall  f1-score   support\n",
      "\n",
      "           0       0.95      1.00      0.97       205\n",
      "           1       0.92      0.92      0.92       187\n",
      "           2       0.89      0.88      0.89       199\n",
      "           3       0.96      0.92      0.94       209\n",
      "\n",
      "    accuracy                           0.93       800\n",
      "   macro avg       0.93      0.93      0.93       800\n",
      "weighted avg       0.93      0.93      0.93       800\n",
      "\n"
     ]
    }
   ],
   "source": [
    "cm2=confusion_matrix(y_test,ypred_m2)\n",
    "print(cm2)\n",
    "print(classification_report(y_test,ypred_m2))"
   ]
  },
  {
   "cell_type": "markdown",
   "id": "be0bfec4",
   "metadata": {},
   "source": [
    "### Accuracy Score"
   ]
  },
  {
   "cell_type": "code",
   "execution_count": 27,
   "id": "c65c6554",
   "metadata": {},
   "outputs": [
    {
     "name": "stdout",
     "output_type": "stream",
     "text": [
      "acuracy score= 0.93125\n",
      "Testing score= 0.93125\n"
     ]
    },
    {
     "name": "stderr",
     "output_type": "stream",
     "text": [
      "C:\\Users\\dell\\anaconda3\\lib\\site-packages\\sklearn\\neighbors\\_classification.py:228: FutureWarning: Unlike other reduction functions (e.g. `skew`, `kurtosis`), the default behavior of `mode` typically preserves the axis it acts along. In SciPy 1.11.0, this behavior will change: the default value of `keepdims` will become False, the `axis` over which the statistic is taken will be eliminated, and the value None will no longer be accepted. Set `keepdims` to True or False to avoid this warning.\n",
      "  mode, _ = stats.mode(_y[neigh_ind, k], axis=1)\n"
     ]
    }
   ],
   "source": [
    "print('acuracy score=',accuracy_score(y_test,ypred_m2))\n",
    "print('Testing score=',m2.score(x_test,y_test))"
   ]
  },
  {
   "cell_type": "markdown",
   "id": "459dea53",
   "metadata": {},
   "source": [
    "## SVM Classifier with Linear"
   ]
  },
  {
   "cell_type": "code",
   "execution_count": 28,
   "id": "41271c8a",
   "metadata": {},
   "outputs": [],
   "source": [
    "from sklearn.svm import SVC"
   ]
  },
  {
   "cell_type": "code",
   "execution_count": 29,
   "id": "0fa9e43f",
   "metadata": {},
   "outputs": [
    {
     "data": {
      "text/plain": [
       "SVC(C=1, kernel='linear')"
      ]
     },
     "execution_count": 29,
     "metadata": {},
     "output_type": "execute_result"
    }
   ],
   "source": [
    "m3=SVC(kernel='linear',C=1)\n",
    "m3.fit(x_train,y_train)"
   ]
  },
  {
   "cell_type": "code",
   "execution_count": 30,
   "id": "07874421",
   "metadata": {},
   "outputs": [
    {
     "name": "stdout",
     "output_type": "stream",
     "text": [
      "training score= 0.9975\n",
      "testing score= 0.97375\n"
     ]
    }
   ],
   "source": [
    "print('training score=',m3.score(x_train,y_train))\n",
    "print('testing score=',m3.score(x_test,y_test))"
   ]
  },
  {
   "cell_type": "markdown",
   "id": "7f32c1ff",
   "metadata": {},
   "source": [
    "### Predicted price"
   ]
  },
  {
   "cell_type": "code",
   "execution_count": 31,
   "id": "d21ed363",
   "metadata": {},
   "outputs": [
    {
     "name": "stdout",
     "output_type": "stream",
     "text": [
      "[3 0 2 2 2 0 0 3 3 1 1 3 0 2 3 0 3 2 2 1 0 0 3 1 2 2 3 1 3 1 1 0 2 0 1 3 0\n",
      " 0 3 3 2 1 3 3 1 3 0 1 3 1 1 3 0 3 0 2 2 2 0 3 3 1 3 2 1 2 3 2 2 2 3 2 1 0\n",
      " 1 3 2 2 1 2 3 3 3 0 0 0 2 1 2 3 1 2 2 1 0 3 3 3 0 3 1 1 3 2 3 2 2 3 2 3 3\n",
      " 0 0 1 3 3 0 0 1 0 0 3 2 2 1 2 1 1 0 2 1 3 3 3 3 3 3 2 0 1 1 2 1 3 1 3 0 0\n",
      " 2 0 1 1 1 1 3 0 0 3 1 3 2 1 3 1 2 3 3 2 1 0 3 1 1 3 3 0 2 2 3 0 2 1 0 1 2\n",
      " 1 2 0 3 3 1 1 0 2 3 0 1 3 2 0 3 3 3 1 2 3 3 3 0 0 0 2 3 3 0 0 1 3 2 3 3 3\n",
      " 0 0 2 2 3 1 0 2 0 0 0 3 2 0 2 2 1 1 0 2 3 3 0 0 1 3 3 2 3 0 3 1 1 0 2 3 3\n",
      " 2 0 0 1 2 3 2 2 3 2 1 0 3 3 2 1 3 2 2 2 1 0 2 2 1 0 0 2 2 2 2 0 1 3 0 2 2\n",
      " 3 0 2 0 1 1 3 0 0 2 3 1 2 0 2 0 3 0 3 3 2 3 1 2 2 1 1 1 0 1 0 3 1 0 3 0 0\n",
      " 1 3 0 3 1 1 0 1 3 0 2 2 1 2 1 1 0 2 0 0 3 1 2 3 2 2 0 3 2 2 1 3 2 3 3 3 0\n",
      " 2 0 3 0 1 1 2 2 1 3 1 2 0 1 2 3 0 0 1 3 0 3 0 2 2 1 1 0 2 0 0 1 3 0 3 3 0\n",
      " 2 1 3 1 1 3 2 0 3 2 2 0 0 3 0 1 1 1 3 2 3 2 0 3 0 0 1 3 0 0 3 2 2 2 3 0 0\n",
      " 1 2 1 2 0 3 3 0 3 3 0 2 2 1 0 2 2 1 3 2 2 0 2 0 3 3 2 1 0 3 1 2 0 0 1 3 0\n",
      " 3 0 0 1 2 0 1 3 0 2 2 1 2 0 3 0 2 3 2 2 2 3 2 3 3 0 0 2 0 3 1 1 1 0 3 2 0\n",
      " 2 0 3 1 1 0 2 1 0 3 1 3 0 0 2 0 3 1 0 0 2 3 0 0 0 1 2 3 1 3 2 2 0 2 1 2 3\n",
      " 1 2 1 2 3 2 2 0 3 0 3 0 0 1 1 2 0 1 0 1 3 3 1 3 0 2 0 0 1 3 1 2 1 3 2 1 1\n",
      " 2 2 0 1 3 0 2 2 0 2 3 0 3 3 2 2 3 0 0 2 2 1 0 0 1 0 0 2 2 1 3 1 1 2 3 3 2\n",
      " 2 3 0 1 1 0 1 0 3 0 1 3 0 2 3 2 3 2 1 0 3 0 3 3 3 1 3 3 3 0 1 1 0 2 1 2 3\n",
      " 1 1 2 2 1 0 3 1 0 3 1 1 1 0 3 1 0 2 2 3 0 0 1 0 0 3 1 2 1 1 3 0 0 0 3 3 1\n",
      " 1 1 1 2 0 2 3 0 2 2 1 2 3 1 1 0 2 1 0 3 3 3 2 2 1 0 1 0 2 3 0 3 0 1 3 0 0\n",
      " 0 2 2 2 3 0 2 0 0 3 1 2 3 2 2 0 1 3 3 2 2 1 0 2 0 0 1 2 0 2 3 1 3 2 1 1 2\n",
      " 0 1 1 1 0 2 0 1 0 1 2 0 1 0 3 3 0 2 1 3 0 3 0]\n"
     ]
    }
   ],
   "source": [
    "ypred_m3=m3.predict(x_test)\n",
    "print(ypred_m3)"
   ]
  },
  {
   "cell_type": "markdown",
   "id": "88dc5dd8",
   "metadata": {},
   "source": [
    "### Confusion Matrix and Classification Report"
   ]
  },
  {
   "cell_type": "code",
   "execution_count": 32,
   "id": "eead3184",
   "metadata": {},
   "outputs": [
    {
     "name": "stdout",
     "output_type": "stream",
     "text": [
      "[[205   0   0   0]\n",
      " [  5 178   4   0]\n",
      " [  0   4 191   4]\n",
      " [  0   0   4 205]]\n",
      "              precision    recall  f1-score   support\n",
      "\n",
      "           0       0.98      1.00      0.99       205\n",
      "           1       0.98      0.95      0.96       187\n",
      "           2       0.96      0.96      0.96       199\n",
      "           3       0.98      0.98      0.98       209\n",
      "\n",
      "    accuracy                           0.97       800\n",
      "   macro avg       0.97      0.97      0.97       800\n",
      "weighted avg       0.97      0.97      0.97       800\n",
      "\n"
     ]
    }
   ],
   "source": [
    "cm3=confusion_matrix(y_test,ypred_m3)\n",
    "print(cm3)\n",
    "print(classification_report(y_test,ypred_m3))"
   ]
  },
  {
   "cell_type": "markdown",
   "id": "a9600a5a",
   "metadata": {},
   "source": [
    "### Accuracy Score"
   ]
  },
  {
   "cell_type": "code",
   "execution_count": 33,
   "id": "33cc4ed5",
   "metadata": {
    "scrolled": true
   },
   "outputs": [
    {
     "name": "stdout",
     "output_type": "stream",
     "text": [
      "accuracy score= 0.97375\n",
      "testing score= 0.97375\n"
     ]
    }
   ],
   "source": [
    "print('accuracy score=',accuracy_score(y_test,ypred_m3))\n",
    "print('testing score=',m3.score(x_test,y_test))"
   ]
  },
  {
   "cell_type": "markdown",
   "id": "97fba485",
   "metadata": {},
   "source": [
    "## SVM Classifier with rbf Kernel"
   ]
  },
  {
   "cell_type": "code",
   "execution_count": 34,
   "id": "92fb74c2",
   "metadata": {},
   "outputs": [],
   "source": [
    "m4=SVC(kernel='rbf',C=10,gamma=10)"
   ]
  },
  {
   "cell_type": "code",
   "execution_count": 35,
   "id": "6fb90904",
   "metadata": {},
   "outputs": [
    {
     "data": {
      "text/plain": [
       "SVC(C=10, gamma=10)"
      ]
     },
     "execution_count": 35,
     "metadata": {},
     "output_type": "execute_result"
    }
   ],
   "source": [
    "m4.fit(x_train,y_train)"
   ]
  },
  {
   "cell_type": "code",
   "execution_count": 36,
   "id": "2326cd0c",
   "metadata": {},
   "outputs": [
    {
     "name": "stdout",
     "output_type": "stream",
     "text": [
      "training score= 1.0\n",
      "testing score= 0.23375\n"
     ]
    }
   ],
   "source": [
    "print('training score=',m4.score(x_train,y_train))\n",
    "print('testing score=',m4.score(x_test,y_test))"
   ]
  },
  {
   "cell_type": "markdown",
   "id": "31f9d0cb",
   "metadata": {},
   "source": [
    "### Predicted price"
   ]
  },
  {
   "cell_type": "code",
   "execution_count": 37,
   "id": "dcb985eb",
   "metadata": {},
   "outputs": [
    {
     "name": "stdout",
     "output_type": "stream",
     "text": [
      "[1 1 1 1 1 1 1 1 1 1 1 1 1 1 1 1 1 1 1 1 1 1 1 1 1 1 1 1 1 1 1 1 1 1 1 1 1\n",
      " 1 1 1 1 1 1 1 1 1 1 1 1 1 1 1 1 1 1 1 1 1 1 1 1 1 1 1 1 1 1 1 1 1 1 1 1 1\n",
      " 1 1 1 1 1 1 1 1 1 1 1 1 1 1 1 1 1 1 1 1 1 1 1 1 1 1 1 1 1 1 1 1 1 1 1 1 1\n",
      " 1 1 1 1 1 1 1 1 1 1 1 1 1 1 1 1 1 1 1 1 1 1 1 1 1 1 1 1 1 1 1 1 1 1 1 1 1\n",
      " 1 1 1 1 1 1 1 1 1 1 1 1 1 1 1 1 1 1 1 1 1 1 1 1 1 1 1 1 1 1 1 1 1 1 1 1 1\n",
      " 1 1 1 1 1 1 1 1 1 1 1 1 1 1 1 1 1 1 1 1 1 1 1 1 1 1 1 1 1 1 1 1 1 1 1 1 1\n",
      " 1 1 1 1 1 1 1 1 1 1 1 1 1 1 1 1 1 1 1 1 1 1 1 1 1 1 1 1 1 1 1 1 1 1 1 1 1\n",
      " 1 1 1 1 1 1 1 1 1 1 1 1 1 1 1 1 1 1 1 1 1 1 1 1 1 1 1 1 1 1 1 1 1 1 1 1 1\n",
      " 1 1 1 1 1 1 1 1 1 1 1 1 1 1 1 1 1 1 1 1 1 1 1 1 1 1 1 1 1 1 1 1 1 1 1 1 1\n",
      " 1 1 1 1 1 1 1 1 1 1 1 1 1 1 1 1 1 1 1 1 1 1 1 1 1 1 1 1 1 1 1 1 1 1 1 1 1\n",
      " 1 1 1 1 1 1 1 1 1 1 1 1 1 1 1 1 1 1 1 1 1 1 1 1 1 1 1 1 1 1 1 1 1 1 1 1 1\n",
      " 1 1 1 1 1 1 1 1 1 1 1 1 1 1 1 1 1 1 1 1 1 1 1 1 1 1 1 1 1 1 1 1 1 1 1 1 1\n",
      " 1 1 1 1 1 1 1 1 1 1 1 1 1 1 1 1 1 1 1 1 1 1 1 1 1 1 1 1 1 1 1 1 1 1 1 1 1\n",
      " 1 1 1 1 1 1 1 1 1 1 1 1 1 1 1 1 1 1 1 1 1 1 1 1 1 1 1 1 1 1 1 1 1 1 1 1 1\n",
      " 1 1 1 1 1 1 1 1 1 1 1 1 1 1 1 1 1 1 1 1 1 1 1 1 1 1 1 1 1 1 1 1 1 1 1 1 1\n",
      " 1 1 1 1 1 1 1 1 1 1 1 1 1 1 1 1 1 1 1 1 1 1 1 1 1 1 1 1 1 1 1 1 1 1 1 1 1\n",
      " 1 1 1 1 1 1 1 1 1 1 1 1 1 1 1 1 1 1 1 1 1 1 1 1 1 1 1 1 1 1 1 1 1 1 1 1 1\n",
      " 1 1 1 1 1 1 1 1 1 1 1 1 1 1 1 1 1 1 1 1 1 1 1 1 1 1 1 1 1 1 1 1 1 1 1 1 1\n",
      " 1 1 1 1 1 1 1 1 1 1 1 1 1 1 1 1 1 1 1 1 1 1 1 1 1 1 1 1 1 1 1 1 1 1 1 1 1\n",
      " 1 1 1 1 1 1 1 1 1 1 1 1 1 1 1 1 1 1 1 1 1 1 1 1 1 1 1 1 1 1 1 1 1 1 1 1 1\n",
      " 1 1 1 1 1 1 1 1 1 1 1 1 1 1 1 1 1 1 1 1 1 1 1 1 1 1 1 1 1 1 1 1 1 1 1 1 1\n",
      " 1 1 1 1 1 1 1 1 1 1 1 1 1 1 1 1 1 1 1 1 1 1 1]\n"
     ]
    }
   ],
   "source": [
    "ypred_m4=m4.predict(x_test)\n",
    "print(ypred_m4)"
   ]
  },
  {
   "cell_type": "markdown",
   "id": "56116b80",
   "metadata": {},
   "source": [
    "### Confusion Matrix and Classification Report"
   ]
  },
  {
   "cell_type": "code",
   "execution_count": 38,
   "id": "7fdf8681",
   "metadata": {},
   "outputs": [
    {
     "name": "stdout",
     "output_type": "stream",
     "text": [
      "[[  0 205   0   0]\n",
      " [  0 187   0   0]\n",
      " [  0 199   0   0]\n",
      " [  0 209   0   0]]\n",
      "              precision    recall  f1-score   support\n",
      "\n",
      "           0       0.00      0.00      0.00       205\n",
      "           1       0.23      1.00      0.38       187\n",
      "           2       0.00      0.00      0.00       199\n",
      "           3       0.00      0.00      0.00       209\n",
      "\n",
      "    accuracy                           0.23       800\n",
      "   macro avg       0.06      0.25      0.09       800\n",
      "weighted avg       0.05      0.23      0.09       800\n",
      "\n"
     ]
    }
   ],
   "source": [
    "cm4=confusion_matrix(y_test,ypred_m4)\n",
    "print(cm4)\n",
    "print(classification_report(y_test,ypred_m4,zero_division=0))"
   ]
  },
  {
   "cell_type": "markdown",
   "id": "3c370a57",
   "metadata": {},
   "source": [
    "### Accuracy Score"
   ]
  },
  {
   "cell_type": "code",
   "execution_count": 39,
   "id": "5b36bf90",
   "metadata": {},
   "outputs": [
    {
     "name": "stdout",
     "output_type": "stream",
     "text": [
      "accuracy score= 0.23375\n",
      "testing score= 0.23375\n"
     ]
    }
   ],
   "source": [
    "print('accuracy score=',accuracy_score(y_test,ypred_m4))\n",
    "print('testing score=',m4.score(x_test,y_test))"
   ]
  },
  {
   "cell_type": "markdown",
   "id": "a4999019",
   "metadata": {},
   "source": [
    "## The Best Accuracy Scored model is SVM when kernel is Linear "
   ]
  },
  {
   "cell_type": "code",
   "execution_count": 40,
   "id": "53e8d3fb",
   "metadata": {},
   "outputs": [
    {
     "name": "stdout",
     "output_type": "stream",
     "text": [
      "[3 0 2 2 2 0 0 3 3 1 1 3 0 2 3 0 3 2 2 1 0 0 3 1 2 2 3 1 3 1 1 0 2 0 1 3 0\n",
      " 0 3 3 2 1 3 3 1 3 0 1 3 1 1 3 0 3 0 2 2 2 0 3 3 1 3 2 1 2 3 2 2 2 3 2 1 0\n",
      " 1 3 2 2 1 2 3 3 3 0 0 0 2 1 2 3 1 2 2 1 0 3 3 3 0 3 1 1 3 2 3 2 2 3 2 3 3\n",
      " 0 0 1 3 3 0 0 1 0 0 3 2 2 1 2 1 1 0 2 1 3 3 3 3 3 3 2 0 1 1 2 1 3 1 3 0 0\n",
      " 2 0 1 1 1 1 3 0 0 3 1 3 2 1 3 1 2 3 3 2 1 0 3 1 1 3 3 0 2 2 3 0 2 1 0 1 2\n",
      " 1 2 0 3 3 1 1 0 2 3 0 1 3 2 0 3 3 3 1 2 3 3 3 0 0 0 2 3 3 0 0 1 3 2 3 3 3\n",
      " 0 0 2 2 3 1 0 2 0 0 0 3 2 0 2 2 1 1 0 2 3 3 0 0 1 3 3 2 3 0 3 1 1 0 2 3 3\n",
      " 2 0 0 1 2 3 2 2 3 2 1 0 3 3 2 1 3 2 2 2 1 0 2 2 1 0 0 2 2 2 2 0 1 3 0 2 2\n",
      " 3 0 2 0 1 1 3 0 0 2 3 1 2 0 2 0 3 0 3 3 2 3 1 2 2 1 1 1 0 1 0 3 1 0 3 0 0\n",
      " 1 3 0 3 1 1 0 1 3 0 2 2 1 2 1 1 0 2 0 0 3 1 2 3 2 2 0 3 2 2 1 3 2 3 3 3 0\n",
      " 2 0 3 0 1 1 2 2 1 3 1 2 0 1 2 3 0 0 1 3 0 3 0 2 2 1 1 0 2 0 0 1 3 0 3 3 0\n",
      " 2 1 3 1 1 3 2 0 3 2 2 0 0 3 0 1 1 1 3 2 3 2 0 3 0 0 1 3 0 0 3 2 2 2 3 0 0\n",
      " 1 2 1 2 0 3 3 0 3 3 0 2 2 1 0 2 2 1 3 2 2 0 2 0 3 3 2 1 0 3 1 2 0 0 1 3 0\n",
      " 3 0 0 1 2 0 1 3 0 2 2 1 2 0 3 0 2 3 2 2 2 3 2 3 3 0 0 2 0 3 1 1 1 0 3 2 0\n",
      " 2 0 3 1 1 0 2 1 0 3 1 3 0 0 2 0 3 1 0 0 2 3 0 0 0 1 2 3 1 3 2 2 0 2 1 2 3\n",
      " 1 2 1 2 3 2 2 0 3 0 3 0 0 1 1 2 0 1 0 1 3 3 1 3 0 2 0 0 1 3 1 2 1 3 2 1 1\n",
      " 2 2 0 1 3 0 2 2 0 2 3 0 3 3 2 2 3 0 0 2 2 1 0 0 1 0 0 2 2 1 3 1 1 2 3 3 2\n",
      " 2 3 0 1 1 0 1 0 3 0 1 3 0 2 3 2 3 2 1 0 3 0 3 3 3 1 3 3 3 0 1 1 0 2 1 2 3\n",
      " 1 1 2 2 1 0 3 1 0 3 1 1 1 0 3 1 0 2 2 3 0 0 1 0 0 3 1 2 1 1 3 0 0 0 3 3 1\n",
      " 1 1 1 2 0 2 3 0 2 2 1 2 3 1 1 0 2 1 0 3 3 3 2 2 1 0 1 0 2 3 0 3 0 1 3 0 0\n",
      " 0 2 2 2 3 0 2 0 0 3 1 2 3 2 2 0 1 3 3 2 2 1 0 2 0 0 1 2 0 2 3 1 3 2 1 1 2\n",
      " 0 1 1 1 0 2 0 1 0 1 2 0 1 0 3 3 0 2 1 3 0 3 0]\n"
     ]
    }
   ],
   "source": [
    "print(ypred_m3)"
   ]
  }
 ],
 "metadata": {
  "kernelspec": {
   "display_name": "Python 3 (ipykernel)",
   "language": "python",
   "name": "python3"
  },
  "language_info": {
   "codemirror_mode": {
    "name": "ipython",
    "version": 3
   },
   "file_extension": ".py",
   "mimetype": "text/x-python",
   "name": "python",
   "nbconvert_exporter": "python",
   "pygments_lexer": "ipython3",
   "version": "3.9.13"
  }
 },
 "nbformat": 4,
 "nbformat_minor": 5
}
